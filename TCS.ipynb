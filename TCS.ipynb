{
  "nbformat": 4,
  "nbformat_minor": 0,
  "metadata": {
    "colab": {
      "name": "TCS.ipynb",
      "provenance": [],
      "authorship_tag": "ABX9TyNsPveVtdZgKvrTWkGjirkt",
      "include_colab_link": true
    },
    "kernelspec": {
      "name": "python3",
      "display_name": "Python 3"
    }
  },
  "cells": [
    {
      "cell_type": "markdown",
      "metadata": {
        "id": "view-in-github",
        "colab_type": "text"
      },
      "source": [
        "<a href=\"https://colab.research.google.com/github/anugyaparashar/Machine-Learning-Project/blob/main/TCS.ipynb\" target=\"_parent\"><img src=\"https://colab.research.google.com/assets/colab-badge.svg\" alt=\"Open In Colab\"/></a>"
      ]
    },
    {
      "cell_type": "code",
      "metadata": {
        "id": "WZM6WlXZNoaP",
        "colab": {
          "base_uri": "https://localhost:8080/"
        },
        "outputId": "3f34f6a6-fff5-472f-d7f7-a02521d8525e"
      },
      "source": [
        "from google.colab import drive\n",
        "drive.mount(\"/content/gdrive\")\n"
      ],
      "execution_count": null,
      "outputs": [
        {
          "output_type": "stream",
          "text": [
            "Mounted at /content/gdrive\n"
          ],
          "name": "stdout"
        }
      ]
    },
    {
      "cell_type": "code",
      "metadata": {
        "id": "60p718zXNsIE",
        "colab": {
          "base_uri": "https://localhost:8080/"
        },
        "outputId": "3bc3be5e-ddc5-4406-98c8-a4bd7ed70aa6"
      },
      "source": [
        "!pip install keras==2.3.1"
      ],
      "execution_count": null,
      "outputs": [
        {
          "output_type": "stream",
          "text": [
            "Collecting keras==2.3.1\n",
            "\u001b[?25l  Downloading https://files.pythonhosted.org/packages/ad/fd/6bfe87920d7f4fd475acd28500a42482b6b84479832bdc0fe9e589a60ceb/Keras-2.3.1-py2.py3-none-any.whl (377kB)\n",
            "\u001b[K     |████████████████████████████████| 378kB 2.8MB/s \n",
            "\u001b[?25hRequirement already satisfied: pyyaml in /usr/local/lib/python3.6/dist-packages (from keras==2.3.1) (3.13)\n",
            "Collecting keras-applications>=1.0.6\n",
            "\u001b[?25l  Downloading https://files.pythonhosted.org/packages/71/e3/19762fdfc62877ae9102edf6342d71b28fbfd9dea3d2f96a882ce099b03f/Keras_Applications-1.0.8-py3-none-any.whl (50kB)\n",
            "\u001b[K     |████████████████████████████████| 51kB 5.2MB/s \n",
            "\u001b[?25hRequirement already satisfied: six>=1.9.0 in /usr/local/lib/python3.6/dist-packages (from keras==2.3.1) (1.15.0)\n",
            "Requirement already satisfied: numpy>=1.9.1 in /usr/local/lib/python3.6/dist-packages (from keras==2.3.1) (1.18.5)\n",
            "Requirement already satisfied: h5py in /usr/local/lib/python3.6/dist-packages (from keras==2.3.1) (2.10.0)\n",
            "Requirement already satisfied: keras-preprocessing>=1.0.5 in /usr/local/lib/python3.6/dist-packages (from keras==2.3.1) (1.1.2)\n",
            "Requirement already satisfied: scipy>=0.14 in /usr/local/lib/python3.6/dist-packages (from keras==2.3.1) (1.4.1)\n",
            "Installing collected packages: keras-applications, keras\n",
            "  Found existing installation: Keras 2.4.3\n",
            "    Uninstalling Keras-2.4.3:\n",
            "      Successfully uninstalled Keras-2.4.3\n",
            "Successfully installed keras-2.3.1 keras-applications-1.0.8\n"
          ],
          "name": "stdout"
        }
      ]
    },
    {
      "cell_type": "code",
      "metadata": {
        "id": "-QtFt5nyN1ZR",
        "colab": {
          "base_uri": "https://localhost:8080/"
        },
        "outputId": "f0a57f24-6d6f-4e6e-f2c3-2907da230243"
      },
      "source": [
        "pip install tensorflow==1.14.0"
      ],
      "execution_count": null,
      "outputs": [
        {
          "output_type": "stream",
          "text": [
            "Collecting tensorflow==1.14.0\n",
            "\u001b[?25l  Downloading https://files.pythonhosted.org/packages/de/f0/96fb2e0412ae9692dbf400e5b04432885f677ad6241c088ccc5fe7724d69/tensorflow-1.14.0-cp36-cp36m-manylinux1_x86_64.whl (109.2MB)\n",
            "\u001b[K     |████████████████████████████████| 109.2MB 47kB/s \n",
            "\u001b[?25hRequirement already satisfied: grpcio>=1.8.6 in /usr/local/lib/python3.6/dist-packages (from tensorflow==1.14.0) (1.33.2)\n",
            "Collecting tensorflow-estimator<1.15.0rc0,>=1.14.0rc0\n",
            "\u001b[?25l  Downloading https://files.pythonhosted.org/packages/3c/d5/21860a5b11caf0678fbc8319341b0ae21a07156911132e0e71bffed0510d/tensorflow_estimator-1.14.0-py2.py3-none-any.whl (488kB)\n",
            "\u001b[K     |████████████████████████████████| 491kB 46.1MB/s \n",
            "\u001b[?25hRequirement already satisfied: gast>=0.2.0 in /usr/local/lib/python3.6/dist-packages (from tensorflow==1.14.0) (0.3.3)\n",
            "Requirement already satisfied: keras-preprocessing>=1.0.5 in /usr/local/lib/python3.6/dist-packages (from tensorflow==1.14.0) (1.1.2)\n",
            "Requirement already satisfied: google-pasta>=0.1.6 in /usr/local/lib/python3.6/dist-packages (from tensorflow==1.14.0) (0.2.0)\n",
            "Requirement already satisfied: numpy<2.0,>=1.14.5 in /usr/local/lib/python3.6/dist-packages (from tensorflow==1.14.0) (1.18.5)\n",
            "Requirement already satisfied: astor>=0.6.0 in /usr/local/lib/python3.6/dist-packages (from tensorflow==1.14.0) (0.8.1)\n",
            "Requirement already satisfied: termcolor>=1.1.0 in /usr/local/lib/python3.6/dist-packages (from tensorflow==1.14.0) (1.1.0)\n",
            "Requirement already satisfied: six>=1.10.0 in /usr/local/lib/python3.6/dist-packages (from tensorflow==1.14.0) (1.15.0)\n",
            "Requirement already satisfied: keras-applications>=1.0.6 in /usr/local/lib/python3.6/dist-packages (from tensorflow==1.14.0) (1.0.8)\n",
            "Requirement already satisfied: protobuf>=3.6.1 in /usr/local/lib/python3.6/dist-packages (from tensorflow==1.14.0) (3.12.4)\n",
            "Requirement already satisfied: wheel>=0.26 in /usr/local/lib/python3.6/dist-packages (from tensorflow==1.14.0) (0.35.1)\n",
            "Requirement already satisfied: wrapt>=1.11.1 in /usr/local/lib/python3.6/dist-packages (from tensorflow==1.14.0) (1.12.1)\n",
            "Requirement already satisfied: absl-py>=0.7.0 in /usr/local/lib/python3.6/dist-packages (from tensorflow==1.14.0) (0.10.0)\n",
            "Collecting tensorboard<1.15.0,>=1.14.0\n",
            "\u001b[?25l  Downloading https://files.pythonhosted.org/packages/91/2d/2ed263449a078cd9c8a9ba50ebd50123adf1f8cfbea1492f9084169b89d9/tensorboard-1.14.0-py3-none-any.whl (3.1MB)\n",
            "\u001b[K     |████████████████████████████████| 3.2MB 44.3MB/s \n",
            "\u001b[?25hRequirement already satisfied: h5py in /usr/local/lib/python3.6/dist-packages (from keras-applications>=1.0.6->tensorflow==1.14.0) (2.10.0)\n",
            "Requirement already satisfied: setuptools in /usr/local/lib/python3.6/dist-packages (from protobuf>=3.6.1->tensorflow==1.14.0) (50.3.2)\n",
            "Requirement already satisfied: markdown>=2.6.8 in /usr/local/lib/python3.6/dist-packages (from tensorboard<1.15.0,>=1.14.0->tensorflow==1.14.0) (3.3.3)\n",
            "Requirement already satisfied: werkzeug>=0.11.15 in /usr/local/lib/python3.6/dist-packages (from tensorboard<1.15.0,>=1.14.0->tensorflow==1.14.0) (1.0.1)\n",
            "Requirement already satisfied: importlib-metadata; python_version < \"3.8\" in /usr/local/lib/python3.6/dist-packages (from markdown>=2.6.8->tensorboard<1.15.0,>=1.14.0->tensorflow==1.14.0) (2.0.0)\n",
            "Requirement already satisfied: zipp>=0.5 in /usr/local/lib/python3.6/dist-packages (from importlib-metadata; python_version < \"3.8\"->markdown>=2.6.8->tensorboard<1.15.0,>=1.14.0->tensorflow==1.14.0) (3.4.0)\n",
            "Installing collected packages: tensorflow-estimator, tensorboard, tensorflow\n",
            "  Found existing installation: tensorflow-estimator 2.3.0\n",
            "    Uninstalling tensorflow-estimator-2.3.0:\n",
            "      Successfully uninstalled tensorflow-estimator-2.3.0\n",
            "  Found existing installation: tensorboard 2.3.0\n",
            "    Uninstalling tensorboard-2.3.0:\n",
            "      Successfully uninstalled tensorboard-2.3.0\n",
            "  Found existing installation: tensorflow 2.3.0\n",
            "    Uninstalling tensorflow-2.3.0:\n",
            "      Successfully uninstalled tensorflow-2.3.0\n",
            "Successfully installed tensorboard-1.14.0 tensorflow-1.14.0 tensorflow-estimator-1.14.0\n"
          ],
          "name": "stdout"
        }
      ]
    },
    {
      "cell_type": "code",
      "metadata": {
        "id": "NWw72x58N9i0",
        "colab": {
          "base_uri": "https://localhost:8080/"
        },
        "outputId": "41c277bb-80ef-459a-f1e4-9c75a24db995"
      },
      "source": [
        "# created the dictionary of the forms\n",
        "d={}\n",
        "from subprocess import check_output\n",
        "with open('/content/gdrive/My Drive/forms_for_parsing.txt') as f:\n",
        "  for line in f:\n",
        "    key=line.split(' ')[0]\n",
        "    writer=line.split(' ')[1]\n",
        "    d[key]=writer\n",
        "print(len(d.keys()))"
      ],
      "execution_count": null,
      "outputs": [
        {
          "output_type": "stream",
          "text": [
            "1539\n"
          ],
          "name": "stdout"
        }
      ]
    },
    {
      "cell_type": "code",
      "metadata": {
        "id": "4gzXU9--OQV0",
        "colab": {
          "base_uri": "https://localhost:8080/"
        },
        "outputId": "7a048b4f-5dc9-4083-ccc8-3002e6dfc7b3"
      },
      "source": [
        "#All imports \n",
        "from __future__ import division\n",
        "import numpy as np\n",
        "import os\n",
        "import glob\n",
        "\n",
        "from random import *\n",
        "from PIL import Image\n",
        "from keras.utils import to_categorical\n",
        "from sklearn.preprocessing import LabelEncoder\n",
        "from sklearn.model_selection import train_test_split\n",
        "import matplotlib.pyplot as plt\n",
        "import pandas as pd\n",
        "import matplotlib.image as mpimg\n",
        "\n",
        "from keras.models import Sequential\n",
        "from keras.layers import Dense , Dropout , Flatten , Lambda , ELU , Activation, BatchNormalization\n",
        "from keras.layers.convolutional import Convolution2D , Cropping2D ,ZeroPadding2D , MaxPooling2D\n",
        "from keras.preprocessing.image import ImageDataGenerator\n",
        "from keras.optimizers import SGD , Adam , RMSprop\n",
        "from google.colab import drive"
      ],
      "execution_count": null,
      "outputs": [
        {
          "output_type": "stream",
          "text": [
            "Using TensorFlow backend.\n",
            "/usr/local/lib/python3.6/dist-packages/tensorflow/python/framework/dtypes.py:516: FutureWarning: Passing (type, 1) or '1type' as a synonym of type is deprecated; in a future version of numpy, it will be understood as (type, (1,)) / '(1,)type'.\n",
            "  _np_qint8 = np.dtype([(\"qint8\", np.int8, 1)])\n",
            "/usr/local/lib/python3.6/dist-packages/tensorflow/python/framework/dtypes.py:517: FutureWarning: Passing (type, 1) or '1type' as a synonym of type is deprecated; in a future version of numpy, it will be understood as (type, (1,)) / '(1,)type'.\n",
            "  _np_quint8 = np.dtype([(\"quint8\", np.uint8, 1)])\n",
            "/usr/local/lib/python3.6/dist-packages/tensorflow/python/framework/dtypes.py:518: FutureWarning: Passing (type, 1) or '1type' as a synonym of type is deprecated; in a future version of numpy, it will be understood as (type, (1,)) / '(1,)type'.\n",
            "  _np_qint16 = np.dtype([(\"qint16\", np.int16, 1)])\n",
            "/usr/local/lib/python3.6/dist-packages/tensorflow/python/framework/dtypes.py:519: FutureWarning: Passing (type, 1) or '1type' as a synonym of type is deprecated; in a future version of numpy, it will be understood as (type, (1,)) / '(1,)type'.\n",
            "  _np_quint16 = np.dtype([(\"quint16\", np.uint16, 1)])\n",
            "/usr/local/lib/python3.6/dist-packages/tensorflow/python/framework/dtypes.py:520: FutureWarning: Passing (type, 1) or '1type' as a synonym of type is deprecated; in a future version of numpy, it will be understood as (type, (1,)) / '(1,)type'.\n",
            "  _np_qint32 = np.dtype([(\"qint32\", np.int32, 1)])\n",
            "/usr/local/lib/python3.6/dist-packages/tensorflow/python/framework/dtypes.py:525: FutureWarning: Passing (type, 1) or '1type' as a synonym of type is deprecated; in a future version of numpy, it will be understood as (type, (1,)) / '(1,)type'.\n",
            "  np_resource = np.dtype([(\"resource\", np.ubyte, 1)])\n",
            "/usr/local/lib/python3.6/dist-packages/tensorboard/compat/tensorflow_stub/dtypes.py:541: FutureWarning: Passing (type, 1) or '1type' as a synonym of type is deprecated; in a future version of numpy, it will be understood as (type, (1,)) / '(1,)type'.\n",
            "  _np_qint8 = np.dtype([(\"qint8\", np.int8, 1)])\n",
            "/usr/local/lib/python3.6/dist-packages/tensorboard/compat/tensorflow_stub/dtypes.py:542: FutureWarning: Passing (type, 1) or '1type' as a synonym of type is deprecated; in a future version of numpy, it will be understood as (type, (1,)) / '(1,)type'.\n",
            "  _np_quint8 = np.dtype([(\"quint8\", np.uint8, 1)])\n",
            "/usr/local/lib/python3.6/dist-packages/tensorboard/compat/tensorflow_stub/dtypes.py:543: FutureWarning: Passing (type, 1) or '1type' as a synonym of type is deprecated; in a future version of numpy, it will be understood as (type, (1,)) / '(1,)type'.\n",
            "  _np_qint16 = np.dtype([(\"qint16\", np.int16, 1)])\n",
            "/usr/local/lib/python3.6/dist-packages/tensorboard/compat/tensorflow_stub/dtypes.py:544: FutureWarning: Passing (type, 1) or '1type' as a synonym of type is deprecated; in a future version of numpy, it will be understood as (type, (1,)) / '(1,)type'.\n",
            "  _np_quint16 = np.dtype([(\"quint16\", np.uint16, 1)])\n",
            "/usr/local/lib/python3.6/dist-packages/tensorboard/compat/tensorflow_stub/dtypes.py:545: FutureWarning: Passing (type, 1) or '1type' as a synonym of type is deprecated; in a future version of numpy, it will be understood as (type, (1,)) / '(1,)type'.\n",
            "  _np_qint32 = np.dtype([(\"qint32\", np.int32, 1)])\n",
            "/usr/local/lib/python3.6/dist-packages/tensorboard/compat/tensorflow_stub/dtypes.py:550: FutureWarning: Passing (type, 1) or '1type' as a synonym of type is deprecated; in a future version of numpy, it will be understood as (type, (1,)) / '(1,)type'.\n",
            "  np_resource = np.dtype([(\"resource\", np.ubyte, 1)])\n"
          ],
          "name": "stderr"
        }
      ]
    },
    {
      "cell_type": "code",
      "metadata": {
        "id": "WgKYSCitOWA5",
        "colab": {
          "base_uri": "https://localhost:8080/",
          "height": 246
        },
        "outputId": "33c37364-d0b3-4394-93fb-98840db8a69d"
      },
      "source": [
        "# All file-names list and target-writer names list are created.\n",
        "tmp = []\n",
        "target_list = []\n",
        "\n",
        "path_to_files = os.path.join('/content/gdrive/My Drive/data_subset', '*')\n",
        "for filename in sorted(glob.glob(path_to_files)):\n",
        "#     print(filename)\n",
        "    tmp.append(filename)\n",
        "    image_name = filename.split('/')[-1]\n",
        "    file, ext = os.path.splitext(image_name)\n",
        "    parts = file.split('-')\n",
        "    form = parts[0] + '-' + parts[1]\n",
        "    for key in d:\n",
        "        if key == form:\n",
        "            target_list.append(str(d[form]))\n",
        "\n",
        "img_files = np.asarray(tmp)\n",
        "img_targets = np.asarray(target_list)\n",
        "print(img_files.shape)\n",
        "print(img_targets.shape)\n",
        "\n",
        "# visualize the image data\n",
        "for filename in img_files[:3]:\n",
        "    img=mpimg.imread(filename)\n",
        "    plt.figure(figsize=(10,10))\n",
        "    plt.imshow(img, cmap ='gray')\n",
        "    "
      ],
      "execution_count": null,
      "outputs": [
        {
          "output_type": "stream",
          "text": [
            "(4920,)\n",
            "(4920,)\n"
          ],
          "name": "stdout"
        },
        {
          "output_type": "display_data",
          "data": {
            "image/png": "[encoded data removed]",
            "text/plain": [
              "<Figure size 720x720 with 1 Axes>"
            ]
          },
          "metadata": {
            "tags": [],
            "needs_background": "light"
          }
        },
        {
          "output_type": "display_data",
          "data": {
            "image/png": "[encoded data removed]",
            "text/plain": [
              "<Figure size 720x720 with 1 Axes>"
            ]
          },
          "metadata": {
            "tags": [],
            "needs_background": "light"
          }
        },
        {
          "output_type": "display_data",
          "data": {
            "image/png": "[encoded data removed]",
            "text/plain": [
              "<Figure size 720x720 with 1 Axes>"
            ]
          },
          "metadata": {
            "tags": [],
            "needs_background": "light"
          }
        }
      ]
    },
    {
      "cell_type": "code",
      "metadata": {
        "id": "wbrIsgFzOapZ",
        "colab": {
          "base_uri": "https://localhost:8080/"
        },
        "outputId": "528a9e01-6b05-4cf3-a513-eedee509cf97"
      },
      "source": [
        "print(img_targets)"
      ],
      "execution_count": null,
      "outputs": [
        {
          "output_type": "stream",
          "text": [
            "['000' '000' '000' ... '635' '635' '635']\n"
          ],
          "name": "stdout"
        }
      ]
    },
    {
      "cell_type": "code",
      "metadata": {
        "id": "97ZvjKr9ObJh",
        "colab": {
          "base_uri": "https://localhost:8080/"
        },
        "outputId": "0895baef-2214-4dbe-fb64-cbf467dfccb8"
      },
      "source": [
        "# Normalizing the data\n",
        "\n",
        "lbl = LabelEncoder()\n",
        "lbl.fit(img_targets)\n",
        "enc_lbl = lbl.transform(img_targets)\n",
        "\n",
        "print(img_files[:5] , img_targets[:5] , enc_lbl[:5])"
      ],
      "execution_count": null,
      "outputs": [
        {
          "output_type": "stream",
          "text": [
            "['/content/gdrive/My Drive/data_subset/a01-000u-s00-00.png'\n",
            " '/content/gdrive/My Drive/data_subset/a01-000u-s00-01.png'\n",
            " '/content/gdrive/My Drive/data_subset/a01-000u-s00-02.png'\n",
            " '/content/gdrive/My Drive/data_subset/a01-000u-s00-03.png'\n",
            " '/content/gdrive/My Drive/data_subset/a01-000u-s01-00.png'] ['000' '000' '000' '000' '000'] [0 0 0 0 0]\n"
          ],
          "name": "stdout"
        }
      ]
    },
    {
      "cell_type": "code",
      "metadata": {
        "id": "a7PkFQpWOg3d",
        "colab": {
          "base_uri": "https://localhost:8080/"
        },
        "outputId": "3b911aee-4c98-4c63-a97e-1d916a237c34"
      },
      "source": [
        "# SAMPLING THE DATA\n",
        "# Splitting of data into training and validation sets for cross validation with 4:1:1 ratio.\n",
        "train_files, rem_files, train_targets, rem_targets = train_test_split(img_files, enc_lbl, train_size=0.66, random_state=52, shuffle= True)\n",
        "val_files, test_files, val_targets, test_targets = train_test_split(rem_files, rem_targets, train_size=0.5, random_state=22, shuffle=True)\n",
        "\n",
        "\n",
        "train_files = train_files[:3233]\n",
        "train_targets = train_targets[:3233]\n",
        "val_files = val_files[:833]\n",
        "val_targets = val_targets[:833]\n",
        "test_files = test_files[:833]\n",
        "test_targets = test_targets[:833]\n",
        "\n",
        "print(train_files.shape, val_files.shape, test_files.shape)\n",
        "print(train_targets.shape, val_targets.shape, test_targets.shape)"
      ],
      "execution_count": null,
      "outputs": [
        {
          "output_type": "stream",
          "text": [
            "(3233,) (833,) (833,)\n",
            "(3233,) (833,) (833,)\n"
          ],
          "name": "stdout"
        }
      ]
    },
    {
      "cell_type": "code",
      "metadata": {
        "id": "dGsuqT_QOnhZ"
      },
      "source": [
        "# Generator function for generating random crops from each sentence randomly cropping 113*113 patches from images\n",
        "\n",
        "batch_size = 16\n",
        "num_classes = 700\n",
        "\n",
        "def generate_data(samples, target_files,  batch_size=batch_size, factor = 0.1 ):\n",
        "    num_samples = len(samples)\n",
        "    from sklearn.utils import shuffle\n",
        "    while 1: # Loop forever so the generator never terminates\n",
        "        for offset in range(0, num_samples, batch_size):\n",
        "            batch_samples = samples[offset:offset+batch_size]\n",
        "            batch_targets = target_files[offset:offset+batch_size]\n",
        "\n",
        "            images = []\n",
        "            targets = []\n",
        "            for i in range(len(batch_samples)):\n",
        "                batch_sample = batch_samples[i]\n",
        "                batch_target = batch_targets[i]\n",
        "                im = Image.open(batch_sample)\n",
        "                cur_width = im.size[0]\n",
        "                cur_height = im.size[1]\n",
        "\n",
        "                # print(cur_width, cur_height)\n",
        "                height_fac = 113 / cur_height\n",
        "\n",
        "                new_width = int(cur_width * height_fac)\n",
        "                size = new_width, 113\n",
        "\n",
        "                imresize = im.resize((size), Image.ANTIALIAS)  # Resize so height = 113 while keeping aspect ratio\n",
        "                now_width = imresize.size[0]\n",
        "                now_height = imresize.size[1]\n",
        "                # Generate crops of size 113x113 from this resized image and keep random 10% of crops\n",
        "\n",
        "                avail_x_points = list(range(0, now_width - 113 ))# total x start points are from 0 to width -113\n",
        "\n",
        "                # Pick random x%\n",
        "                pick_num = int(len(avail_x_points)*factor)\n",
        "\n",
        "                # Now pick\n",
        "                random_startx = sample(avail_x_points,  pick_num)\n",
        "\n",
        "                for start in random_startx:\n",
        "                    imcrop = imresize.crop((start, 0, start+113, 113))\n",
        "                    images.append(np.asarray(imcrop))\n",
        "                    targets.append(batch_target)\n",
        "            \n",
        "\n",
        "            # trim image to only see section with road\n",
        "            X_train = np.array(images)\n",
        "            y_train = np.array(targets)\n",
        "\n",
        "            #reshape X_train for feeding in later\n",
        "            X_train = X_train.reshape(X_train.shape[0], 113, 113, 1)\n",
        "            #convert to float and normalize\n",
        "            X_train = X_train.astype('float32')\n",
        "            X_train /= 255\n",
        "            \n",
        "            y_train = to_categorical(y_train, num_classes)\n",
        "            yield shuffle(X_train, y_train)\n",
        "\n",
        "\n",
        "train_generator = generate_data(train_files, train_targets, batch_size=batch_size, factor = 0.3)\n",
        "validation_generator = generate_data(val_files, val_targets, batch_size=batch_size, factor = 0.3)\n",
        "test_generator = generate_data(test_files, test_targets, batch_size=batch_size, factor = 0.1)\n"
      ],
      "execution_count": null,
      "outputs": []
    },
    {
      "cell_type": "code",
      "metadata": {
        "id": "fxN9-K4GOpd6",
        "colab": {
          "base_uri": "https://localhost:8080/"
        },
        "outputId": "5b92aa87-d148-41d8-9f0f-565ef3d28549"
      },
      "source": [
        "# A Keras Model is built. Summary of the model is printed below.\n",
        "def resize_image(image):\n",
        "    import tensorflow as tf\n",
        "    return tf.image.resize(image,[56,56])\n",
        "\n",
        "# Function to resize image to 64x64\n",
        "row, col, ch = 113, 113, 1\n",
        "\n",
        "model = Sequential()\n",
        "model.add(ZeroPadding2D((1, 1), input_shape=(row, col, ch)))\n",
        "\n",
        "# Resise data within the neural network\n",
        "model.add(Lambda(resize_image))  #resize images to allow for easy computation\n",
        "#model.add(Lambda(lambda x: resize_image))\n",
        "\n",
        "# CNN model - Building the model suggested in paper\n",
        "\n",
        "model.add(Convolution2D(filters= 32, kernel_size =(5,5), strides= (2,2), padding='same', name='conv1')) #96\n",
        "model.add(Activation('relu'))\n",
        "model.add(MaxPooling2D(pool_size=(2,2),strides=(2,2), name='pool1'))\n",
        "\n",
        "model.add(Convolution2D(filters= 64, kernel_size =(3,3), strides= (1,1), padding='same', name='conv2'))  #256\n",
        "model.add(Activation('relu'))\n",
        "model.add(MaxPooling2D(pool_size=(2,2),strides=(2,2), name='pool2'))\n",
        "\n",
        "model.add(Convolution2D(filters=128, kernel_size =(3,3), strides= (1,1), padding='same', name='conv3'))  #256\n",
        "model.add(Activation('relu'))\n",
        "model.add(MaxPooling2D(pool_size=(2,2),strides=(2,2), name='pool3'))\n",
        "\n",
        "\n",
        "model.add(Flatten())\n",
        "model.add(Dropout(0.5))\n",
        "\n",
        "model.add(Dense(128, name='dense1'))  #1024\n",
        "#model.add(BatchNormalization())\n",
        "model.add(Activation('relu'))\n",
        "model.add(Dropout(0.5))\n",
        "\n",
        "model.add(Dense(64, name='dense2'))  #1024\n",
        "model.add(Activation('relu'))\n",
        "model.add(Dropout(0.5))\n",
        "\n",
        "model.add(Dense(num_classes,name='output'))\n",
        "model.add(Activation('softmax'))  #softmax since output is within 50 classes\n",
        "print(\"Worked till here\")\n",
        "\n",
        "model.compile(loss='categorical_crossentropy', optimizer=Adam(), metrics=['accuracy'])\n",
        "\n",
        "print(model.summary())"
      ],
      "execution_count": null,
      "outputs": [
        {
          "output_type": "stream",
          "text": [
            "WARNING:tensorflow:From /usr/local/lib/python3.6/dist-packages/keras/backend/tensorflow_backend.py:4070: The name tf.nn.max_pool is deprecated. Please use tf.nn.max_pool2d instead.\n",
            "\n",
            "Worked till here\n",
            "Model: \"sequential_1\"\n",
            "_________________________________________________________________\n",
            "Layer (type)                 Output Shape              Param #   \n",
            "=================================================================\n",
            "zero_padding2d_1 (ZeroPaddin (None, 115, 115, 1)       0         \n",
            "_________________________________________________________________\n",
            "lambda_1 (Lambda)            (None, 56, 56, 1)         0         \n",
            "_________________________________________________________________\n",
            "conv1 (Conv2D)               (None, 28, 28, 32)        832       \n",
            "_________________________________________________________________\n",
            "activation_1 (Activation)    (None, 28, 28, 32)        0         \n",
            "_________________________________________________________________\n",
            "pool1 (MaxPooling2D)         (None, 14, 14, 32)        0         \n",
            "_________________________________________________________________\n",
            "conv2 (Conv2D)               (None, 14, 14, 64)        18496     \n",
            "_________________________________________________________________\n",
            "activation_2 (Activation)    (None, 14, 14, 64)        0         \n",
            "_________________________________________________________________\n",
            "pool2 (MaxPooling2D)         (None, 7, 7, 64)          0         \n",
            "_________________________________________________________________\n",
            "conv3 (Conv2D)               (None, 7, 7, 128)         73856     \n",
            "_________________________________________________________________\n",
            "activation_3 (Activation)    (None, 7, 7, 128)         0         \n",
            "_________________________________________________________________\n",
            "pool3 (MaxPooling2D)         (None, 3, 3, 128)         0         \n",
            "_________________________________________________________________\n",
            "flatten_1 (Flatten)          (None, 1152)              0         \n",
            "_________________________________________________________________\n",
            "dropout_1 (Dropout)          (None, 1152)              0         \n",
            "_________________________________________________________________\n",
            "dense1 (Dense)               (None, 128)               147584    \n",
            "_________________________________________________________________\n",
            "activation_4 (Activation)    (None, 128)               0         \n",
            "_________________________________________________________________\n",
            "dropout_2 (Dropout)          (None, 128)               0         \n",
            "_________________________________________________________________\n",
            "dense2 (Dense)               (None, 64)                8256      \n",
            "_________________________________________________________________\n",
            "activation_5 (Activation)    (None, 64)                0         \n",
            "_________________________________________________________________\n",
            "dropout_3 (Dropout)          (None, 64)                0         \n",
            "_________________________________________________________________\n",
            "output (Dense)               (None, 700)               45500     \n",
            "_________________________________________________________________\n",
            "activation_6 (Activation)    (None, 700)               0         \n",
            "=================================================================\n",
            "Total params: 294,524\n",
            "Trainable params: 294,524\n",
            "Non-trainable params: 0\n",
            "_________________________________________________________________\n",
            "None\n"
          ],
          "name": "stdout"
        }
      ]
    },
    {
      "cell_type": "code",
      "metadata": {
        "id": "9GU_K1TlOtJr",
        "colab": {
          "base_uri": "https://localhost:8080/"
        },
        "outputId": "14f91e2d-4ae4-45a9-d364-ab62954e9f15"
      },
      "source": [
        "# Training the Model\n",
        "epochs = 1\n",
        "\n",
        "steps_per_epoch = 233\n",
        "validation_steps = 62\n",
        "\n",
        "\n",
        "# #save every model using Keras checkpoint\n",
        "from keras.callbacks import ModelCheckpoint\n",
        "filepath=\"gdrive/My Drive/check-{epoch:02d}-{val_loss:.4f}.hdf5\"\n",
        "checkpoint = ModelCheckpoint(filepath= filepath, verbose=1, save_best_only=False)\n",
        "callbacks_list = [checkpoint]\n",
        "\n",
        "# #Model fit generator\n",
        "history_object = model.fit(train_generator, steps_per_epoch= steps_per_epoch,\n",
        "                                      validation_data=validation_generator,\n",
        "                                      validation_steps=validation_steps,\n",
        "                            epochs=epochs, \n",
        "                           verbose=1,\n",
        "                           callbacks=callbacks_list)\n"
      ],
      "execution_count": null,
      "outputs": [
        {
          "output_type": "stream",
          "text": [
            "WARNING:tensorflow:From /usr/local/lib/python3.6/dist-packages/keras/backend/tensorflow_backend.py:422: The name tf.global_variables is deprecated. Please use tf.compat.v1.global_variables instead.\n",
            "\n",
            "Epoch 1/1\n",
            "233/233 [==============================] - 3816s 16s/step - loss: 4.0922 - accuracy: 0.1918 - val_loss: 3.6665 - val_accuracy: 0.2297\n",
            "\n",
            "Epoch 00001: saving model to gdrive/My Drive/check-01-3.6665.hdf5\n"
          ],
          "name": "stdout"
        }
      ]
    },
    {
      "cell_type": "code",
      "metadata": {
        "id": "sMP0m-8kO8VC",
        "colab": {
          "base_uri": "https://localhost:8080/"
        },
        "outputId": "93c428de-7178-48e1-e7a8-c32617f8b6f4"
      },
      "source": [
        "\"\"\"### Performance Metrics\n",
        "Let's now test our model for calculating accuracy.\n",
        "\"\"\"\n",
        "model.load_weights('gdrive/My Drive/check-01-3.5850.hdf5')\n",
        "#model.load_weights('gdrive/My Drive/check-01-0.0000.hdf5')\n",
        "#model.load_weights('gdrive/My Drive/check-02-0.0000.hdf5')\n",
        "scores = model.evaluate_generator(test_generator,121) # 121 is the number of test images.\n",
        "print(\"Accuracy = \", scores[1] , \" ::\" , len(scores))"
      ],
      "execution_count": null,
      "outputs": [
        {
          "output_type": "stream",
          "text": [
            "Accuracy =  0.2393471747636795  :: 2\n"
          ],
          "name": "stdout"
        }
      ]
    },
    {
      "cell_type": "code",
      "metadata": {
        "id": "tJ4hAPobg2bL",
        "colab": {
          "base_uri": "https://localhost:8080/"
        },
        "outputId": "61d517b2-ffaa-4141-cf58-eb5ed58bb416"
      },
      "source": [
        "images = []\n",
        "for filename in test_files[:50]:\n",
        "     im = Image.open(filename)\n",
        "\n",
        "     cur_width = im.size[0]\n",
        "     cur_height = im.size[1]\n",
        "\n",
        "     print(\"Before Crop:\", cur_width, cur_height)\n",
        "     height_fac = 113 / cur_height\n",
        "\n",
        "     new_width = int(cur_width * height_fac)\n",
        "     size = new_width, 113\n",
        "\n",
        "     imresize = im.resize((size), Image.ANTIALIAS)  # Resize so height = 113 while keeping aspect ratio\n",
        "     now_width = imresize.size[0]\n",
        "     now_height = imresize.size[1]\n",
        "     print(\"After Crop:\", now_width, now_height)\n",
        "#     # Generate crops of size 113x113 from this resized image and keep random 10% of crops\n",
        "\n",
        "     avail_x_points = list(range(0, now_width - 113 ))# total x start points are from 0 to width -113\n",
        "\n",
        "#     # Pick random x%\n",
        "     factor = 0.1\n",
        "     pick_num = int(len(avail_x_points)*factor)\n",
        "     print(\"Pick Number is ::\", pick_num)\n",
        "    \n",
        "     random_startx = sample(avail_x_points,  pick_num)\n",
        "\n",
        "     for start in random_startx:\n",
        "         imcrop = imresize.crop((start, 0, start+113, 113))\n",
        "         images.append(np.asarray(imcrop))\n",
        "         \n",
        "     X_test = np.array(images)\n",
        "    \n",
        "     X_test = X_test.reshape(X_test.shape[0], 113, 113, 1)\n",
        "#     #convert to float and normalize\n",
        "     X_test = X_test.astype('float32')\n",
        "     X_test /= 255\n",
        "     shuffle(X_test)\n",
        "\n",
        "print(X_test.shape)"
      ],
      "execution_count": null,
      "outputs": [
        {
          "output_type": "stream",
          "text": [
            "Before Crop: 1719 127\n",
            "After Crop: 1529 113\n",
            "Pick Number is :: 141\n",
            "Before Crop: 556 166\n",
            "After Crop: 378 113\n",
            "Pick Number is :: 26\n",
            "Before Crop: 1736 150\n",
            "After Crop: 1307 113\n",
            "Pick Number is :: 119\n",
            "Before Crop: 1714 159\n",
            "After Crop: 1218 113\n",
            "Pick Number is :: 110\n",
            "Before Crop: 184 66\n",
            "After Crop: 315 113\n",
            "Pick Number is :: 20\n",
            "Before Crop: 230 140\n",
            "After Crop: 185 113\n",
            "Pick Number is :: 7\n",
            "Before Crop: 329 115\n",
            "After Crop: 323 113\n",
            "Pick Number is :: 21\n",
            "Before Crop: 1079 101\n",
            "After Crop: 1207 113\n",
            "Pick Number is :: 109\n",
            "Before Crop: 1582 149\n",
            "After Crop: 1199 113\n",
            "Pick Number is :: 108\n",
            "Before Crop: 1778 72\n",
            "After Crop: 2790 113\n",
            "Pick Number is :: 267\n",
            "Before Crop: 522 72\n",
            "After Crop: 819 113\n",
            "Pick Number is :: 70\n",
            "Before Crop: 1573 189\n",
            "After Crop: 940 113\n",
            "Pick Number is :: 82\n",
            "Before Crop: 1917 176\n",
            "After Crop: 1230 113\n",
            "Pick Number is :: 111\n",
            "Before Crop: 1986 140\n",
            "After Crop: 1602 113\n",
            "Pick Number is :: 148\n",
            "Before Crop: 1620 155\n",
            "After Crop: 1181 113\n",
            "Pick Number is :: 106\n",
            "Before Crop: 1658 104\n",
            "After Crop: 1801 113\n",
            "Pick Number is :: 168\n",
            "Before Crop: 1237 131\n",
            "After Crop: 1067 113\n",
            "Pick Number is :: 95\n",
            "Before Crop: 1513 108\n",
            "After Crop: 1583 113\n",
            "Pick Number is :: 147\n",
            "Before Crop: 1119 92\n",
            "After Crop: 1374 113\n",
            "Pick Number is :: 126\n",
            "Before Crop: 518 58\n",
            "After Crop: 1009 113\n",
            "Pick Number is :: 89\n",
            "Before Crop: 1861 149\n",
            "After Crop: 1411 113\n",
            "Pick Number is :: 129\n",
            "Before Crop: 1394 88\n",
            "After Crop: 1790 113\n",
            "Pick Number is :: 167\n",
            "Before Crop: 1802 123\n",
            "After Crop: 1655 113\n",
            "Pick Number is :: 154\n",
            "Before Crop: 1146 86\n",
            "After Crop: 1505 113\n",
            "Pick Number is :: 139\n",
            "Before Crop: 889 90\n",
            "After Crop: 1116 113\n",
            "Pick Number is :: 100\n",
            "Before Crop: 1752 95\n",
            "After Crop: 2083 113\n",
            "Pick Number is :: 197\n",
            "Before Crop: 1690 94\n",
            "After Crop: 2031 113\n",
            "Pick Number is :: 191\n",
            "Before Crop: 345 75\n",
            "After Crop: 519 113\n",
            "Pick Number is :: 40\n",
            "Before Crop: 1882 120\n",
            "After Crop: 1772 113\n",
            "Pick Number is :: 165\n",
            "Before Crop: 1677 144\n",
            "After Crop: 1315 113\n",
            "Pick Number is :: 120\n",
            "Before Crop: 1840 200\n",
            "After Crop: 1039 113\n",
            "Pick Number is :: 92\n",
            "Before Crop: 599 94\n",
            "After Crop: 720 113\n",
            "Pick Number is :: 60\n",
            "Before Crop: 1875 92\n",
            "After Crop: 2302 113\n",
            "Pick Number is :: 218\n",
            "Before Crop: 452 91\n",
            "After Crop: 561 113\n",
            "Pick Number is :: 44\n",
            "Before Crop: 1286 65\n",
            "After Crop: 2235 113\n",
            "Pick Number is :: 212\n",
            "Before Crop: 1705 94\n",
            "After Crop: 2049 113\n",
            "Pick Number is :: 193\n",
            "Before Crop: 781 103\n",
            "After Crop: 856 113\n",
            "Pick Number is :: 74\n",
            "Before Crop: 434 86\n",
            "After Crop: 570 113\n",
            "Pick Number is :: 45\n",
            "Before Crop: 1571 163\n",
            "After Crop: 1089 113\n",
            "Pick Number is :: 97\n",
            "Before Crop: 1867 156\n",
            "After Crop: 1352 113\n",
            "Pick Number is :: 123\n",
            "Before Crop: 1466 96\n",
            "After Crop: 1725 113\n",
            "Pick Number is :: 161\n",
            "Before Crop: 1772 131\n",
            "After Crop: 1528 113\n",
            "Pick Number is :: 141\n",
            "Before Crop: 1557 147\n",
            "After Crop: 1196 113\n",
            "Pick Number is :: 108\n",
            "Before Crop: 1595 106\n",
            "After Crop: 1700 113\n",
            "Pick Number is :: 158\n",
            "Before Crop: 737 91\n",
            "After Crop: 915 113\n",
            "Pick Number is :: 80\n",
            "Before Crop: 1726 103\n",
            "After Crop: 1893 113\n",
            "Pick Number is :: 178\n",
            "Before Crop: 1596 143\n",
            "After Crop: 1261 113\n",
            "Pick Number is :: 114\n",
            "Before Crop: 1815 82\n",
            "After Crop: 2501 113\n",
            "Pick Number is :: 238\n",
            "Before Crop: 618 103\n",
            "After Crop: 678 113\n",
            "Pick Number is :: 56\n",
            "Before Crop: 1822 118\n",
            "After Crop: 1744 113\n",
            "Pick Number is :: 163\n",
            "(6027, 113, 113, 1)\n"
          ],
          "name": "stdout"
        }
      ]
    },
    {
      "cell_type": "code",
      "metadata": {
        "id": "L5gva3hCmevS",
        "colab": {
          "base_uri": "https://localhost:8080/",
          "height": 229
        },
        "outputId": "09193ba1-c40b-482e-e45c-ac645a0226e0"
      },
      "source": [
        "# Creating the predictive model\n",
        "\n",
        "predictions = model.predict(X_test, verbose =1)\n",
        "\n",
        "print(predictions.shape)\n",
        "predicted_writer = []\n",
        "for pred in predictions:\n",
        "     predicted_writer.append(np.argmax(pred))\n",
        "print(len(predicted_writer))\n",
        "\n",
        "writer_number = 0\n",
        "total_image = 20\n",
        "counter = 0\n",
        "\n",
        "for i in range(len(predicted_writer)//10):\n",
        "  if predicted_writer[i] == writer_number:\n",
        "    image= X_test[i].squeeze()\n",
        "    plt.figure(figsize=(2,2))\n",
        "    plt.imshow(image, cmap='gray')\n",
        "#print(X_test[1])\n",
        "image1 = X_test[0].squeeze()\n",
        "image2 = X_test[1].squeeze()\n",
        "\n",
        "plt.figure(figsize=(2,2))\n",
        "plt.imshow(image1, cmap = 'gray')\n",
        "\n",
        "plt.figure(figsize=(2,2))\n",
        "plt.imshow(image, cmap = 'gray')"
      ],
      "execution_count": 1,
      "outputs": [
        {
          "output_type": "error",
          "ename": "NameError",
          "evalue": "ignored",
          "traceback": [
            "\u001b[0;31m---------------------------------------------------------------------------\u001b[0m",
            "\u001b[0;31mNameError\u001b[0m                                 Traceback (most recent call last)",
            "\u001b[0;32m<ipython-input-1-f7104241da32>\u001b[0m in \u001b[0;36m<module>\u001b[0;34m()\u001b[0m\n\u001b[1;32m      1\u001b[0m \u001b[0;31m# Creating the predictive model\u001b[0m\u001b[0;34m\u001b[0m\u001b[0;34m\u001b[0m\u001b[0;34m\u001b[0m\u001b[0m\n\u001b[1;32m      2\u001b[0m \u001b[0;34m\u001b[0m\u001b[0m\n\u001b[0;32m----> 3\u001b[0;31m \u001b[0mpredictions\u001b[0m \u001b[0;34m=\u001b[0m \u001b[0mmodel\u001b[0m\u001b[0;34m.\u001b[0m\u001b[0mpredict\u001b[0m\u001b[0;34m(\u001b[0m\u001b[0mX_test\u001b[0m\u001b[0;34m,\u001b[0m \u001b[0mverbose\u001b[0m \u001b[0;34m=\u001b[0m\u001b[0;36m1\u001b[0m\u001b[0;34m)\u001b[0m\u001b[0;34m\u001b[0m\u001b[0;34m\u001b[0m\u001b[0m\n\u001b[0m\u001b[1;32m      4\u001b[0m \u001b[0;34m\u001b[0m\u001b[0m\n\u001b[1;32m      5\u001b[0m \u001b[0mprint\u001b[0m\u001b[0;34m(\u001b[0m\u001b[0mpredictions\u001b[0m\u001b[0;34m.\u001b[0m\u001b[0mshape\u001b[0m\u001b[0;34m)\u001b[0m\u001b[0;34m\u001b[0m\u001b[0;34m\u001b[0m\u001b[0m\n",
            "\u001b[0;31mNameError\u001b[0m: name 'model' is not defined"
          ]
        }
      ]
    }
  ]
}